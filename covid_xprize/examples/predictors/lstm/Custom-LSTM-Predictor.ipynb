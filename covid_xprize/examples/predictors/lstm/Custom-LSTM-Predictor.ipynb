{
 "cells": [
  {
   "cell_type": "markdown",
   "id": "86300286",
   "metadata": {},
   "source": [
    "# Training the LSTM model with latest data"
   ]
  },
  {
   "cell_type": "code",
   "execution_count": 1,
   "id": "7cd8059d",
   "metadata": {},
   "outputs": [],
   "source": [
    "import os\n",
    "import pandas as pd\n",
    "import requests"
   ]
  },
  {
   "cell_type": "code",
   "execution_count": 15,
   "id": "befd2da7",
   "metadata": {},
   "outputs": [
    {
     "data": {
      "text/plain": [
       "42998284"
      ]
     },
     "execution_count": 15,
     "metadata": {},
     "output_type": "execute_result"
    }
   ],
   "source": [
    "# Main source for the training data\n",
    "DATA_URL = 'https://raw.githubusercontent.com/OxCGRT/covid-policy-tracker/master/data/OxCGRT_latest.csv'\n",
    "DATA_FILE = 'data/OxCGRT_latest.csv'\n",
    "\n",
    "# Download the data set\n",
    "data = requests.get(DATA_URL)\n",
    "\n",
    "# Persist the data set locally in order to use it after submission to make predictions,\n",
    "# as the sandbox won't have access to the internet anymore.\n",
    "if not os.path.exists('data'):\n",
    "    os.mkdir('data')\n",
    "open(DATA_FILE, 'wb').write(data.content)"
   ]
  },
  {
   "cell_type": "code",
   "execution_count": 12,
   "id": "063fc73f",
   "metadata": {},
   "outputs": [],
   "source": [
    "# Reload the module to get the latest changes\n",
    "import xprize_predictor\n",
    "from importlib import reload\n",
    "reload(xprize_predictor)\n",
    "from xprize_predictor import XPrizePredictor"
   ]
  },
  {
   "cell_type": "code",
   "execution_count": 7,
   "id": "7bb55c39",
   "metadata": {},
   "outputs": [],
   "source": [
    "predictor = XPrizePredictor(None, DATA_FILE)"
   ]
  },
  {
   "cell_type": "code",
   "execution_count": 8,
   "id": "d9ed832e",
   "metadata": {},
   "outputs": [
    {
     "name": "stdout",
     "output_type": "stream",
     "text": [
      "Creating numpy arrays for Keras for each country...\n",
      "Numpy arrays created\n",
      "Trial 0\n",
      "348/348 [==============================] - 1s 3ms/step - loss: 0.0443\n",
      "Train Loss: 0.04547623172402382\n",
      "Val Loss: 0.048068657517433167\n",
      "Test Loss: 0.0442829355597496\n",
      "Trial 1\n",
      "348/348 [==============================] - 1s 2ms/step - loss: 0.0448\n",
      "Train Loss: 0.04695827513933182\n",
      "Val Loss: 0.04376831650733948\n",
      "Test Loss: 0.04482118785381317\n",
      "Trial 2\n",
      "348/348 [==============================] - 1s 4ms/step - loss: 0.0444\n",
      "Train Loss: 0.046080488711595535\n",
      "Val Loss: 0.039886172860860825\n",
      "Test Loss: 0.044399961829185486\n",
      "Trial 3\n",
      "348/348 [==============================] - 1s 3ms/step - loss: 0.0397\n",
      "Train Loss: 0.039605915546417236\n",
      "Val Loss: 0.045067813247442245\n",
      "Test Loss: 0.039661042392253876\n",
      "Trial 4\n",
      "348/348 [==============================] - 1s 3ms/step - loss: 0.0442\n",
      "Train Loss: 0.04550674185156822\n",
      "Val Loss: 0.04531722515821457\n",
      "Test Loss: 0.044185295701026917\n",
      "Trial 5\n",
      "348/348 [==============================] - 2s 5ms/step - loss: 0.0444\n",
      "Train Loss: 0.04542742297053337\n",
      "Val Loss: 0.045172035694122314\n",
      "Test Loss: 0.04438651353120804\n",
      "Trial 6\n",
      "348/348 [==============================] - 1s 3ms/step - loss: 0.0417\n",
      "Train Loss: 0.04189738258719444\n",
      "Val Loss: 0.0456903874874115\n",
      "Test Loss: 0.041700396686792374\n",
      "Trial 7\n",
      "348/348 [==============================] - 1s 3ms/step - loss: 0.0444\n",
      "Train Loss: 0.04640112817287445\n",
      "Val Loss: 0.039955753833055496\n",
      "Test Loss: 0.04436793923377991\n",
      "Trial 8\n",
      "348/348 [==============================] - 1s 3ms/step - loss: 0.0423\n",
      "Train Loss: 0.04358962923288345\n",
      "Val Loss: 0.04510807618498802\n",
      "Test Loss: 0.042336173355579376\n",
      "Trial 9\n",
      "348/348 [==============================] - 2s 6ms/step - loss: 0.0442\n",
      "Train Loss: 0.04589333385229111\n",
      "Val Loss: 0.049124374985694885\n",
      "Test Loss: 0.04422930255532265\n",
      "Done\n",
      "CPU times: user 2h 56min 37s, sys: 25min 27s, total: 3h 22min 5s\n",
      "Wall time: 1h 26min 23s\n"
     ]
    }
   ],
   "source": [
    "%%time\n",
    "predictor_model = predictor.train()"
   ]
  },
  {
   "cell_type": "code",
   "execution_count": 9,
   "id": "fa9a3ce4",
   "metadata": {},
   "outputs": [],
   "source": [
    "if not os.path.exists('models'):\n",
    "    os.mkdir('models')\n",
    "predictor_model.save_weights(\"models/trained_model_weights.h5\")"
   ]
  },
  {
   "cell_type": "markdown",
   "id": "e9dcb229",
   "metadata": {},
   "source": [
    "# Training the LSTM + VP (summary) model with latest data"
   ]
  },
  {
   "cell_type": "code",
   "execution_count": null,
   "id": "526dfa1b",
   "metadata": {},
   "outputs": [],
   "source": [
    "import os\n",
    "import pandas as pd\n",
    "import requests"
   ]
  },
  {
   "cell_type": "code",
   "execution_count": 22,
   "id": "8d2fa2d8",
   "metadata": {},
   "outputs": [
    {
     "data": {
      "text/plain": [
       "3571578"
      ]
     },
     "execution_count": 22,
     "metadata": {},
     "output_type": "execute_result"
    }
   ],
   "source": [
    "# Main source for the training data\n",
    "DATA_URL1 = 'https://raw.githubusercontent.com/OxCGRT/covid-policy-tracker/master/data/OxCGRT_latest.csv'\n",
    "DATA_FILE1 = 'data/OxCGRT_latest.csv'\n",
    "DATA_URL2 = 'https://raw.githubusercontent.com/OxCGRT/covid-policy-tracker/master/data/OxCGRT_vaccines_full.csv'\n",
    "DATA_FILE2 = 'data/OxCGRT_vaccines_full.csv'\n",
    "\n",
    "# Download the data set\n",
    "data = requests.get(DATA_URL1)\n",
    "data2 = requests.get(DATA_URL2)\n",
    "\n",
    "# Persist the data set locally in order to use it after submission to make predictions,\n",
    "# as the sandbox won't have access to the internet anymore.\n",
    "if not os.path.exists('data'):\n",
    "    os.mkdir('data')\n",
    "open(DATA_FILE1, 'wb').write(data.content)\n",
    "open(DATA_FILE2, 'wb').write(data2.content)"
   ]
  },
  {
   "cell_type": "code",
   "execution_count": 10,
   "id": "9d1226fd",
   "metadata": {},
   "outputs": [
    {
     "name": "stderr",
     "output_type": "stream",
     "text": [
      "/root/miniconda3/envs/p38/lib/python3.8/site-packages/IPython/core/interactiveshell.py:3169: DtypeWarning: Columns (3) have mixed types.Specify dtype option on import or set low_memory=False.\n",
      "  has_raised = await self.run_ast_nodes(code_ast.body, cell_name,\n"
     ]
    },
    {
     "name": "stdout",
     "output_type": "stream",
     "text": [
      "Saved predictions to data/OxCGRT_latest_plus_vpsum.csv\n"
     ]
    }
   ],
   "source": [
    "# creating new data file with latest data and vp summary\n",
    "DATA_FILE3 = 'data/OxCGRT_latest_plus_vpsum.csv'\n",
    "\n",
    "latest_df = pd.read_csv(DATA_FILE1,\n",
    "                       parse_dates=['Date'],\n",
    "                       dtype={\"RegionName\": str},\n",
    "                       encoding=\"ISO-8859-1\")\n",
    "vp_df = pd.read_csv(DATA_FILE2,\n",
    "                       parse_dates=['Date'],\n",
    "                       dtype={\"RegionName\": str},\n",
    "                       encoding=\"ISO-8859-1\")\n",
    "\n",
    "vp_df = vp_df[['CountryCode', 'Date', 'V1_Vaccine Prioritisation (summary)','V2_Vaccine Availability (summary)','V3_Vaccine Financial Support (summary)']]\n",
    "df = latest_df.merge(vp_df, on=['CountryCode', 'Date'], how='left')\n",
    "#print(df.loc[(df['CountryCode'] == 'AUT') & (df['Date'] == '2020-12-27')])\n",
    "\n",
    "# Save to a csv file\n",
    "df.to_csv(DATA_FILE3, index=False)\n",
    "print(f\"Saved predictions to {DATA_FILE3}\")"
   ]
  },
  {
   "cell_type": "code",
   "execution_count": 15,
   "id": "67d74432",
   "metadata": {},
   "outputs": [],
   "source": [
    "#importing model lstm + vp summary\n",
    "import xprize_predictor_v2\n",
    "from importlib import reload\n",
    "reload(xprize_predictor_v2)\n",
    "from xprize_predictor_v2 import XPrizePredictorV2"
   ]
  },
  {
   "cell_type": "code",
   "execution_count": 16,
   "id": "c38c5a8e",
   "metadata": {},
   "outputs": [],
   "source": [
    "predictor = XPrizePredictorV2(None, DATA_FILE3)"
   ]
  },
  {
   "cell_type": "code",
   "execution_count": 17,
   "id": "631921af",
   "metadata": {},
   "outputs": [
    {
     "name": "stdout",
     "output_type": "stream",
     "text": [
      "Creating numpy arrays for Keras for each country...\n",
      "Numpy arrays created\n",
      "Trial 0\n",
      "349/349 [==============================] - 2s 6ms/step - loss: 0.0416\n",
      "Train Loss: 0.041866421699523926\n",
      "Val Loss: 0.04562857002019882\n",
      "Test Loss: 0.041550133377313614\n",
      "Trial 1\n",
      "349/349 [==============================] - 2s 5ms/step - loss: 0.0444\n",
      "Train Loss: 0.045525021851062775\n",
      "Val Loss: 0.0450284518301487\n",
      "Test Loss: 0.044374339282512665\n",
      "Trial 2\n",
      "349/349 [==============================] - 3s 9ms/step - loss: 0.0454\n",
      "Train Loss: 0.04808530956506729\n",
      "Val Loss: 0.04398070275783539\n",
      "Test Loss: 0.04542063549160957\n",
      "Trial 3\n",
      "349/349 [==============================] - 3s 7ms/step - loss: 0.0411\n",
      "Train Loss: 0.041500307619571686\n",
      "Val Loss: 0.043113745748996735\n",
      "Test Loss: 0.041062384843826294\n",
      "Trial 4\n",
      "349/349 [==============================] - 2s 6ms/step - loss: 0.0442\n",
      "Train Loss: 0.04546665772795677\n",
      "Val Loss: 0.044233538210392\n",
      "Test Loss: 0.04421777278184891\n",
      "Trial 5\n",
      "349/349 [==============================] - 2s 6ms/step - loss: 0.0437\n",
      "Train Loss: 0.0444851815700531\n",
      "Val Loss: 0.049008116126060486\n",
      "Test Loss: 0.04371269419789314\n",
      "Trial 6\n",
      "349/349 [==============================] - 2s 6ms/step - loss: 0.0414\n",
      "Train Loss: 0.042461976408958435\n",
      "Val Loss: 0.043348874896764755\n",
      "Test Loss: 0.0413694866001606\n",
      "Trial 7\n",
      "349/349 [==============================] - 2s 6ms/step - loss: 0.0445\n",
      "Train Loss: 0.0459028035402298\n",
      "Val Loss: 0.04668768122792244\n",
      "Test Loss: 0.044486310333013535\n",
      "Trial 8\n",
      "349/349 [==============================] - 1s 3ms/step - loss: 0.0446\n",
      "Train Loss: 0.04552844911813736\n",
      "Val Loss: 0.044710829854011536\n",
      "Test Loss: 0.0445517934858799\n",
      "Trial 9\n",
      "349/349 [==============================] - 1s 3ms/step - loss: 0.0442\n",
      "Train Loss: 0.045633792877197266\n",
      "Val Loss: 0.04439147561788559\n",
      "Test Loss: 0.04420400410890579\n",
      "Done\n",
      "CPU times: user 3h 7min 23s, sys: 25min 34s, total: 3h 32min 57s\n",
      "Wall time: 1h 46min 26s\n"
     ]
    }
   ],
   "source": [
    "%%time\n",
    "predictor_model = predictor.train()"
   ]
  },
  {
   "cell_type": "code",
   "execution_count": 18,
   "id": "7cfae8ae",
   "metadata": {},
   "outputs": [],
   "source": [
    "if not os.path.exists('models'):\n",
    "    os.mkdir('models')\n",
    "predictor_model.save_weights(\"models/trained_lstm_plus_vpsum_model_weights.h5\")"
   ]
  },
  {
   "cell_type": "markdown",
   "id": "13c6ff3d",
   "metadata": {},
   "source": [
    "# Training the LSTM + VP model with latest data"
   ]
  },
  {
   "cell_type": "code",
   "execution_count": 2,
   "id": "1b377a18",
   "metadata": {},
   "outputs": [],
   "source": [
    "import os\n",
    "import pandas as pd\n",
    "import requests"
   ]
  },
  {
   "cell_type": "code",
   "execution_count": 3,
   "id": "a4198418",
   "metadata": {},
   "outputs": [
    {
     "data": {
      "text/plain": [
       "3571578"
      ]
     },
     "execution_count": 3,
     "metadata": {},
     "output_type": "execute_result"
    }
   ],
   "source": [
    "# Main source for the training data\n",
    "DATA_URL1 = 'https://raw.githubusercontent.com/OxCGRT/covid-policy-tracker/master/data/OxCGRT_latest.csv'\n",
    "DATA_FILE1 = 'data/OxCGRT_latest.csv'\n",
    "DATA_URL2 = 'https://raw.githubusercontent.com/OxCGRT/covid-policy-tracker/master/data/OxCGRT_vaccines_full.csv'\n",
    "DATA_FILE2 = 'data/OxCGRT_vaccines_full.csv'\n",
    "\n",
    "# Download the data set\n",
    "data = requests.get(DATA_URL1)\n",
    "data2 = requests.get(DATA_URL2)\n",
    "\n",
    "# Persist the data set locally in order to use it after submission to make predictions,\n",
    "# as the sandbox won't have access to the internet anymore.\n",
    "if not os.path.exists('data'):\n",
    "    os.mkdir('data')\n",
    "open(DATA_FILE1, 'wb').write(data.content)\n",
    "open(DATA_FILE2, 'wb').write(data2.content)"
   ]
  },
  {
   "cell_type": "code",
   "execution_count": 4,
   "id": "c192f616",
   "metadata": {
    "scrolled": false
   },
   "outputs": [
    {
     "name": "stderr",
     "output_type": "stream",
     "text": [
      "/root/miniconda3/envs/p38/lib/python3.8/site-packages/IPython/core/interactiveshell.py:3169: DtypeWarning: Columns (3) have mixed types.Specify dtype option on import or set low_memory=False.\n",
      "  has_raised = await self.run_ast_nodes(code_ast.body, cell_name,\n"
     ]
    },
    {
     "name": "stdout",
     "output_type": "stream",
     "text": [
      "Saved predictions to data/OxCGRT_latest_plus_vp.csv\n"
     ]
    }
   ],
   "source": [
    "# creating new data file with latest data and vp\n",
    "DATA_FILE3 = 'data/OxCGRT_latest_plus_vp.csv'\n",
    "\n",
    "latest_df = pd.read_csv(DATA_FILE1,\n",
    "                       parse_dates=['Date'],\n",
    "                       dtype={\"RegionName\": str},\n",
    "                       encoding=\"ISO-8859-1\")\n",
    "vp_df = pd.read_csv(DATA_FILE2,\n",
    "                       parse_dates=['Date'],\n",
    "                       dtype={\"RegionName\": str},\n",
    "                       encoding=\"ISO-8859-1\")\n",
    "\n",
    "vp_df.columns = vp_df.columns.str.replace(\"'\",\"\")\n",
    "vp_df.columns = vp_df.columns.str.replace('\"','')\n",
    "vp_df = vp_df[['CountryCode','Date','V1_Vaccine Prioritisation (summary)','V1_0-4 yrs infants','V1_5-15 yrs young people','V1_Airport/Border/Airline Staff','V1_At Risk 16-19 yrs','V1_At Risk 20-24 yrs','V1_At Risk 25-29 yrs','V1_At Risk 30-34 yrs','V1_At Risk 35-39 yrs','V1_At Risk 40-44 yrs','V1_At Risk 45-49 yrs','V1_At Risk 50-54 yrs','V1_At Risk 55-59 yrs','V1_At Risk 60-64 yrs','V1_At Risk 65-69 yrs','V1_At Risk 70-74 yrs','V1_At Risk 75-79 yrs','V1_At Risk 80+ yrs','V1_Clinically vulnerable/chronic illness/significant underlying health condition (excluding elderly and disabled)','V1_Crowded/communal living conditions (dormitories for migrant workers, temporary accommodation)','V1_Disabled People','V1_Educators','V1_Ethnic minorities','V1_Factory workers','V1_Frontline retail workers','V1_Frontline/essential workers (when subcategories not specified)','V1_General 16-19 yrs','V1_General 20-24 yrs','V1_General 25-29 yrs','V1_General 30-34 yrs','V1_General 35-39 yrs','V1_General 40-44 yrs','V1_General 45-49 yrs','V1_General 50-54 yrs','V1_General 55-59 yrs','V1_General 60-64 yrs','V1_General 65-69 yrs','V1_General 70-74 yrs','V1_General 75-79 yrs','V1_General 80+ yrs','V1_Healthcare workers/carers (excluding care home staff)','V1_Military ','V1_Other high contact professions/groups (taxi drivers, security guards)','V1_People living with a vulnerable/shielding person or other priority group','V1_Police/ first responders','V1_Pregnant people','V1_Primary and secondary school students','V1_Religious/Spiritual Leaders','V1_Residents in an elderly care home ','V1_Staff working in an elderly care home','V1_Tertiary education students','V2_Vaccine Availability (summary)','V2_0-4 yrs infants','V2_5-15 yrs young people','V2_Airport/Border/Airline Staff','V2_At Risk 16-19 yrs','V2_At Risk 20-24 yrs','V2_At Risk 25-29 yrs','V2_At Risk 30-34 yrs','V2_At Risk 35-39 yrs','V2_At Risk 40-44 yrs','V2_At Risk 45-49 yrs','V2_At Risk 50-54 yrs','V2_At Risk 55-59 yrs','V2_At Risk 60-64 yrs','V2_At Risk 65-69 yrs','V2_At Risk 70-74 yrs','V2_At Risk 75-79 yrs','V2_At Risk 80+ yrs','V2_Clinically vulnerable/chronic illness/significant underlying health condition (excluding elderly and disabled)','V2_Crowded/communal living conditions (dormitories for migrant workers, temporary accommodation)','V2_Disabled People','V2_Educators','V2_Ethnic minorities','V2_Factory workers','V2_Frontline retail workers','V2_Frontline/essential workers (when subcategories not specified)','V2_General 16-19 yrs','V2_General 20-24 yrs','V2_General 25-29 yrs','V2_General 30-34 yrs','V2_General 35-39 yrs','V2_General 40-44 yrs','V2_General 45-49 yrs','V2_General 50-54 yrs','V2_General 55-59 yrs','V2_General 60-64 yrs','V2_General 65-69 yrs','V2_General 70-74 yrs','V2_General 75-79 yrs','V2_General 80+ yrs','V2_Healthcare workers/carers (excluding care home staff)','V2_Military ','V2_Other high contact professions/groups (taxi drivers, security guards)','V2_People living with a vulnerable/shielding person or other priority group','V2_Police/ first responders','V2_Pregnant people','V2_Primary and secondary school students','V2_Religious/Spiritual Leaders','V2_Residents in an elderly care home ','V2_Staff working in an elderly care home','V2_Tertiary education students','V3_Vaccine Financial Support (summary)','V3_0-4 yrs infants','V3_5-15 yrs young people','V3_Airport/Border/Airline Staff','V3_At Risk 16-19 yrs','V3_At Risk 20-24 yrs','V3_At Risk 25-29 yrs','V3_At Risk 30-34 yrs','V3_At Risk 35-39 yrs','V3_At Risk 40-44 yrs','V3_At Risk 45-49 yrs','V3_At Risk 50-54 yrs','V3_At Risk 55-59 yrs','V3_At Risk 60-64 yrs','V3_At Risk 65-69 yrs','V3_At Risk 70-74 yrs','V3_At Risk 75-79 yrs','V3_At Risk 80+ yrs','V3_Clinically vulnerable/chronic illness/significant underlying health condition (excluding elderly and disabled)','V3_Crowded/communal living conditions (dormitories for migrant workers, temporary accommodation)','V3_Disabled People','V3_Educators','V3_Ethnic minorities','V3_Factory workers','V3_Frontline retail workers','V3_Frontline/essential workers (when subcategories not specified)','V3_General 16-19 yrs','V3_General 20-24 yrs','V3_General 25-29 yrs','V3_General 30-34 yrs','V3_General 35-39 yrs','V3_General 40-44 yrs','V3_General 45-49 yrs','V3_General 50-54 yrs','V3_General 55-59 yrs','V3_General 60-64 yrs','V3_General 65-69 yrs','V3_General 70-74 yrs','V3_General 75-79 yrs','V3_General 80+ yrs','V3_Healthcare workers/carers (excluding care home staff)','V3_Military ','V3_Other high contact professions/groups (taxi drivers, security guards)','V3_People living with a vulnerable/shielding person or other priority group','V3_Police/ first responders','V3_Pregnant people','V3_Primary and secondary school students','V3_Religious/Spiritual Leaders','V3_Residents in an elderly care home ','V3_Staff working in an elderly care home','V3_Tertiary education students']]\n",
    "\n",
    "df = latest_df.merge(vp_df, on=['CountryCode', 'Date'], how='left')\n",
    "\n",
    "# Save to a csv file\n",
    "df.to_csv(DATA_FILE3, index=False)\n",
    "print(f\"Saved predictions to {DATA_FILE3}\")"
   ]
  },
  {
   "cell_type": "code",
   "execution_count": 5,
   "id": "cf56693d",
   "metadata": {},
   "outputs": [],
   "source": [
    "#importing model lstm + vp\n",
    "import xprize_predictor_v3\n",
    "from importlib import reload\n",
    "reload(xprize_predictor_v3)\n",
    "from xprize_predictor_v3 import XPrizePredictorV3"
   ]
  },
  {
   "cell_type": "code",
   "execution_count": 6,
   "id": "669528b7",
   "metadata": {},
   "outputs": [],
   "source": [
    "predictor = XPrizePredictorV3(None, DATA_FILE3)"
   ]
  },
  {
   "cell_type": "code",
   "execution_count": 7,
   "id": "f4397b0a",
   "metadata": {},
   "outputs": [
    {
     "name": "stdout",
     "output_type": "stream",
     "text": [
      "Creating numpy arrays for Keras for each country...\n",
      "Numpy arrays created\n",
      "Trial 0\n"
     ]
    }
   ],
   "source": [
    "%%time\n",
    "predictor_model = predictor.train()"
   ]
  },
  {
   "cell_type": "code",
   "execution_count": null,
   "id": "63751d1c",
   "metadata": {},
   "outputs": [],
   "source": [
    "if not os.path.exists('models'):\n",
    "    os.mkdir('models')\n",
    "predictor_model.save_weights(\"models/trained_lstm_plus_vp_model_weights.h5\")"
   ]
  }
 ],
 "metadata": {
  "kernelspec": {
   "display_name": "Python 3 (ipykernel)",
   "language": "python",
   "name": "python3"
  },
  "language_info": {
   "codemirror_mode": {
    "name": "ipython",
    "version": 3
   },
   "file_extension": ".py",
   "mimetype": "text/x-python",
   "name": "python",
   "nbconvert_exporter": "python",
   "pygments_lexer": "ipython3",
   "version": "3.8.10"
  }
 },
 "nbformat": 4,
 "nbformat_minor": 5
}
