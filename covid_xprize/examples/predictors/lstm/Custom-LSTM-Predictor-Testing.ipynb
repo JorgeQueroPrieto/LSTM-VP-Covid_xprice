{
 "cells": [
  {
   "cell_type": "code",
   "execution_count": 1,
   "id": "95cb8b71",
   "metadata": {},
   "outputs": [],
   "source": [
    "import os\n",
    "import pandas as pd\n",
    "import requests"
   ]
  },
  {
   "cell_type": "markdown",
   "id": "c485cad1",
   "metadata": {},
   "source": [
    "# Training the LSTM model with latest data"
   ]
  },
  {
   "cell_type": "code",
   "execution_count": 15,
   "id": "623b09d1",
   "metadata": {},
   "outputs": [
    {
     "data": {
      "text/plain": [
       "42998284"
      ]
     },
     "execution_count": 15,
     "metadata": {},
     "output_type": "execute_result"
    }
   ],
   "source": [
    "# Main source for the training data\n",
    "DATA_URL = 'https://raw.githubusercontent.com/OxCGRT/covid-policy-tracker/master/data/OxCGRT_latest.csv'\n",
    "DATA_FILE = 'data/OxCGRT_latest.csv'\n",
    "\n",
    "# Download the data set\n",
    "data = requests.get(DATA_URL)\n",
    "\n",
    "# Persist the data set locally in order to use it after submission to make predictions,\n",
    "# as the sandbox won't have access to the internet anymore.\n",
    "if not os.path.exists('data'):\n",
    "    os.mkdir('data')\n",
    "open(DATA_FILE, 'wb').write(data.content)"
   ]
  },
  {
   "cell_type": "code",
   "execution_count": 12,
   "id": "fc512959",
   "metadata": {},
   "outputs": [],
   "source": [
    "# Reload the module to get the latest changes\n",
    "import xprize_predictor\n",
    "from importlib import reload\n",
    "reload(xprize_predictor)\n",
    "from xprize_predictor import XPrizePredictor"
   ]
  },
  {
   "cell_type": "code",
   "execution_count": 7,
   "id": "fbfa2e29",
   "metadata": {},
   "outputs": [],
   "source": [
    "predictor = XPrizePredictor(None, DATA_FILE)"
   ]
  },
  {
   "cell_type": "code",
   "execution_count": 8,
   "id": "87cd705b",
   "metadata": {},
   "outputs": [
    {
     "name": "stdout",
     "output_type": "stream",
     "text": [
      "Creating numpy arrays for Keras for each country...\n",
      "Numpy arrays created\n",
      "Trial 0\n",
      "348/348 [==============================] - 1s 3ms/step - loss: 0.0443\n",
      "Train Loss: 0.04547623172402382\n",
      "Val Loss: 0.048068657517433167\n",
      "Test Loss: 0.0442829355597496\n",
      "Trial 1\n",
      "348/348 [==============================] - 1s 2ms/step - loss: 0.0448\n",
      "Train Loss: 0.04695827513933182\n",
      "Val Loss: 0.04376831650733948\n",
      "Test Loss: 0.04482118785381317\n",
      "Trial 2\n",
      "348/348 [==============================] - 1s 4ms/step - loss: 0.0444\n",
      "Train Loss: 0.046080488711595535\n",
      "Val Loss: 0.039886172860860825\n",
      "Test Loss: 0.044399961829185486\n",
      "Trial 3\n",
      "348/348 [==============================] - 1s 3ms/step - loss: 0.0397\n",
      "Train Loss: 0.039605915546417236\n",
      "Val Loss: 0.045067813247442245\n",
      "Test Loss: 0.039661042392253876\n",
      "Trial 4\n",
      "348/348 [==============================] - 1s 3ms/step - loss: 0.0442\n",
      "Train Loss: 0.04550674185156822\n",
      "Val Loss: 0.04531722515821457\n",
      "Test Loss: 0.044185295701026917\n",
      "Trial 5\n",
      "348/348 [==============================] - 2s 5ms/step - loss: 0.0444\n",
      "Train Loss: 0.04542742297053337\n",
      "Val Loss: 0.045172035694122314\n",
      "Test Loss: 0.04438651353120804\n",
      "Trial 6\n",
      "348/348 [==============================] - 1s 3ms/step - loss: 0.0417\n",
      "Train Loss: 0.04189738258719444\n",
      "Val Loss: 0.0456903874874115\n",
      "Test Loss: 0.041700396686792374\n",
      "Trial 7\n",
      "348/348 [==============================] - 1s 3ms/step - loss: 0.0444\n",
      "Train Loss: 0.04640112817287445\n",
      "Val Loss: 0.039955753833055496\n",
      "Test Loss: 0.04436793923377991\n",
      "Trial 8\n",
      "348/348 [==============================] - 1s 3ms/step - loss: 0.0423\n",
      "Train Loss: 0.04358962923288345\n",
      "Val Loss: 0.04510807618498802\n",
      "Test Loss: 0.042336173355579376\n",
      "Trial 9\n",
      "348/348 [==============================] - 2s 6ms/step - loss: 0.0442\n",
      "Train Loss: 0.04589333385229111\n",
      "Val Loss: 0.049124374985694885\n",
      "Test Loss: 0.04422930255532265\n",
      "Done\n",
      "CPU times: user 2h 56min 37s, sys: 25min 27s, total: 3h 22min 5s\n",
      "Wall time: 1h 26min 23s\n"
     ]
    }
   ],
   "source": [
    "%%time\n",
    "predictor_model = predictor.train()"
   ]
  },
  {
   "cell_type": "code",
   "execution_count": 9,
   "id": "2f738b2c",
   "metadata": {},
   "outputs": [],
   "source": [
    "if not os.path.exists('models'):\n",
    "    os.mkdir('models')\n",
    "predictor_model.save_weights(\"models/trained_model_weights.h5\")"
   ]
  },
  {
   "cell_type": "markdown",
   "id": "d7a07196",
   "metadata": {},
   "source": [
    "# Predicting 4 days gap using the trained model with latest data"
   ]
  },
  {
   "cell_type": "markdown",
   "id": "7e31a486",
   "metadata": {},
   "source": [
    "## Load candidate model"
   ]
  },
  {
   "cell_type": "code",
   "execution_count": 16,
   "id": "8cbd34e1",
   "metadata": {},
   "outputs": [],
   "source": [
    "model_weights_file = \"models/trained_model_weights.h5\""
   ]
  },
  {
   "cell_type": "code",
   "execution_count": 17,
   "id": "7041b879",
   "metadata": {},
   "outputs": [],
   "source": [
    "predictor = XPrizePredictor(model_weights_file, DATA_FILE)"
   ]
  },
  {
   "cell_type": "markdown",
   "id": "e2c90eec",
   "metadata": {},
   "source": [
    "## Make prediction"
   ]
  },
  {
   "cell_type": "code",
   "execution_count": 18,
   "id": "cfae937c",
   "metadata": {},
   "outputs": [],
   "source": [
    "NPIS_INPUT_FILE = \"../../../validation/data/2020-09-30_historical_ip.csv\"\n",
    "start_date = \"2020-08-01\"\n",
    "end_date = \"2020-08-4\"\n",
    "output_file_path = \"predictions/2020-08-01_2020-08-4_latest_data.csv\""
   ]
  },
  {
   "cell_type": "code",
   "execution_count": 19,
   "id": "3e35237a",
   "metadata": {},
   "outputs": [
    {
     "name": "stdout",
     "output_type": "stream",
     "text": [
      "CPU times: user 28.8 s, sys: 928 ms, total: 29.7 s\n",
      "Wall time: 25.2 s\n"
     ]
    }
   ],
   "source": [
    "%%time\n",
    "preds_df = predictor.predict(start_date, end_date, NPIS_INPUT_FILE)"
   ]
  },
  {
   "cell_type": "code",
   "execution_count": 20,
   "id": "5c21cdf0",
   "metadata": {},
   "outputs": [
    {
     "name": "stdout",
     "output_type": "stream",
     "text": [
      "Saved predictions to predictions/2020-08-01_2020-08-4_latest_data.csv\n"
     ]
    }
   ],
   "source": [
    "# Create the output path\n",
    "os.makedirs(os.path.dirname(output_file_path), exist_ok=True)\n",
    "# Save to a csv file\n",
    "preds_df.to_csv(output_file_path, index=False)\n",
    "print(f\"Saved predictions to {output_file_path}\")"
   ]
  },
  {
   "cell_type": "code",
   "execution_count": 21,
   "id": "e746fe54",
   "metadata": {},
   "outputs": [
    {
     "data": {
      "text/html": [
       "<div>\n",
       "<style scoped>\n",
       "    .dataframe tbody tr th:only-of-type {\n",
       "        vertical-align: middle;\n",
       "    }\n",
       "\n",
       "    .dataframe tbody tr th {\n",
       "        vertical-align: top;\n",
       "    }\n",
       "\n",
       "    .dataframe thead th {\n",
       "        text-align: right;\n",
       "    }\n",
       "</style>\n",
       "<table border=\"1\" class=\"dataframe\">\n",
       "  <thead>\n",
       "    <tr style=\"text-align: right;\">\n",
       "      <th></th>\n",
       "      <th>CountryName</th>\n",
       "      <th>RegionName</th>\n",
       "      <th>Date</th>\n",
       "      <th>PredictedDailyNewCases</th>\n",
       "    </tr>\n",
       "  </thead>\n",
       "  <tbody>\n",
       "    <tr>\n",
       "      <th>0</th>\n",
       "      <td>Aruba</td>\n",
       "      <td>NaN</td>\n",
       "      <td>2020-08-01</td>\n",
       "      <td>29.044608</td>\n",
       "    </tr>\n",
       "    <tr>\n",
       "      <th>1</th>\n",
       "      <td>Aruba</td>\n",
       "      <td>NaN</td>\n",
       "      <td>2020-08-02</td>\n",
       "      <td>31.191441</td>\n",
       "    </tr>\n",
       "    <tr>\n",
       "      <th>2</th>\n",
       "      <td>Aruba</td>\n",
       "      <td>NaN</td>\n",
       "      <td>2020-08-03</td>\n",
       "      <td>0.000000</td>\n",
       "    </tr>\n",
       "    <tr>\n",
       "      <th>3</th>\n",
       "      <td>Aruba</td>\n",
       "      <td>NaN</td>\n",
       "      <td>2020-08-04</td>\n",
       "      <td>33.244748</td>\n",
       "    </tr>\n",
       "    <tr>\n",
       "      <th>4</th>\n",
       "      <td>Afghanistan</td>\n",
       "      <td>NaN</td>\n",
       "      <td>2020-08-01</td>\n",
       "      <td>83.481197</td>\n",
       "    </tr>\n",
       "  </tbody>\n",
       "</table>\n",
       "</div>"
      ],
      "text/plain": [
       "   CountryName RegionName       Date  PredictedDailyNewCases\n",
       "0        Aruba        NaN 2020-08-01               29.044608\n",
       "1        Aruba        NaN 2020-08-02               31.191441\n",
       "2        Aruba        NaN 2020-08-03                0.000000\n",
       "3        Aruba        NaN 2020-08-04               33.244748\n",
       "4  Afghanistan        NaN 2020-08-01               83.481197"
      ]
     },
     "execution_count": 21,
     "metadata": {},
     "output_type": "execute_result"
    }
   ],
   "source": [
    "preds_df.head()"
   ]
  },
  {
   "cell_type": "markdown",
   "id": "3d17fa56",
   "metadata": {},
   "source": [
    "# Predicting the August covid wave 2021 with NPI-LSTM trained with latest data till July of 2021 "
   ]
  },
  {
   "cell_type": "markdown",
   "id": "6ec35f2d",
   "metadata": {},
   "source": [
    "## Training the lstm with latest data till 31 July of 2021"
   ]
  },
  {
   "cell_type": "markdown",
   "id": "8c41a3dc",
   "metadata": {},
   "source": [
    "### Filtering and saving data till 31 July of 2021 from latest data"
   ]
  },
  {
   "cell_type": "code",
   "execution_count": 3,
   "id": "7e427479",
   "metadata": {},
   "outputs": [
    {
     "ename": "NameError",
     "evalue": "name 'DATA_FILE' is not defined",
     "output_type": "error",
     "traceback": [
      "\u001b[0;31m---------------------------------------------------------------------------\u001b[0m",
      "\u001b[0;31mNameError\u001b[0m                                 Traceback (most recent call last)",
      "\u001b[0;32m/tmp/ipykernel_15023/1973044482.py\u001b[0m in \u001b[0;36m<module>\u001b[0;34m\u001b[0m\n\u001b[0;32m----> 1\u001b[0;31m latest_df = pd.read_csv(DATA_FILE,\n\u001b[0m\u001b[1;32m      2\u001b[0m                        \u001b[0mparse_dates\u001b[0m\u001b[0;34m=\u001b[0m\u001b[0;34m[\u001b[0m\u001b[0;34m'Date'\u001b[0m\u001b[0;34m]\u001b[0m\u001b[0;34m,\u001b[0m\u001b[0;34m\u001b[0m\u001b[0;34m\u001b[0m\u001b[0m\n\u001b[1;32m      3\u001b[0m                        \u001b[0mdtype\u001b[0m\u001b[0;34m=\u001b[0m\u001b[0;34m{\u001b[0m\u001b[0;34m\"RegionName\"\u001b[0m\u001b[0;34m:\u001b[0m \u001b[0mstr\u001b[0m\u001b[0;34m}\u001b[0m\u001b[0;34m,\u001b[0m\u001b[0;34m\u001b[0m\u001b[0;34m\u001b[0m\u001b[0m\n\u001b[1;32m      4\u001b[0m                        encoding=\"ISO-8859-1\")\n\u001b[1;32m      5\u001b[0m \u001b[0mlatest_july_df\u001b[0m \u001b[0;34m=\u001b[0m \u001b[0mlatest_df\u001b[0m\u001b[0;34m[\u001b[0m\u001b[0;34m(\u001b[0m\u001b[0mlatest_df\u001b[0m\u001b[0;34m.\u001b[0m\u001b[0mDate\u001b[0m \u001b[0;34m<\u001b[0m \u001b[0;34m'2021-08-01'\u001b[0m\u001b[0;34m)\u001b[0m\u001b[0;34m]\u001b[0m\u001b[0;34m\u001b[0m\u001b[0;34m\u001b[0m\u001b[0m\n",
      "\u001b[0;31mNameError\u001b[0m: name 'DATA_FILE' is not defined"
     ]
    }
   ],
   "source": [
    "latest_df = pd.read_csv(DATA_FILE,\n",
    "                       parse_dates=['Date'],\n",
    "                       dtype={\"RegionName\": str},\n",
    "                       encoding=\"ISO-8859-1\")\n",
    "latest_july_df = latest_df[(latest_df.Date < '2021-08-01')]"
   ]
  },
  {
   "cell_type": "code",
   "execution_count": 14,
   "id": "d88293d6",
   "metadata": {},
   "outputs": [
    {
     "name": "stdout",
     "output_type": "stream",
     "text": [
      "Saved dataframe to data/OxCGRT_2021_07_31.csv\n"
     ]
    }
   ],
   "source": [
    "output_file_path = \"data/OxCGRT_2021_07_31.csv\";\n",
    "# Create the output path\n",
    "os.makedirs(os.path.dirname(output_file_path), exist_ok=True)\n",
    "# Save to a csv file\n",
    "latest_july_df.to_csv(output_file_path, index=False)\n",
    "print(f\"Saved dataframe to {output_file_path}\")"
   ]
  },
  {
   "cell_type": "markdown",
   "id": "36b34722",
   "metadata": {},
   "source": [
    "### Training"
   ]
  },
  {
   "cell_type": "markdown",
   "id": "5e577ca0",
   "metadata": {},
   "source": [
    "Data for training is randomly splited on 90% for training, and 10% for validation. While the 14 latest days data of the global dataframe is keeped out for testing."
   ]
  },
  {
   "cell_type": "code",
   "execution_count": 16,
   "id": "7223fa4c",
   "metadata": {},
   "outputs": [],
   "source": [
    "DATA_FILE = output_file_path\n"
   ]
  },
  {
   "cell_type": "code",
   "execution_count": 17,
   "id": "250a6cc9",
   "metadata": {},
   "outputs": [],
   "source": [
    "predictor = XPrizePredictor(None, DATA_FILE)"
   ]
  },
  {
   "cell_type": "markdown",
   "id": "9504651b",
   "metadata": {},
   "source": [
    "We have set number or trials to 10, in order to get the best model lstm which minimize the  val loss MAE "
   ]
  },
  {
   "cell_type": "code",
   "execution_count": 18,
   "id": "761e4ee0",
   "metadata": {},
   "outputs": [
    {
     "name": "stdout",
     "output_type": "stream",
     "text": [
      "Creating numpy arrays for Keras for each country...\n",
      "Numpy arrays created\n",
      "Trial 0\n",
      "345/345 [==============================] - 2s 6ms/step - loss: 0.0447\n",
      "Train Loss: 0.04586868733167648\n",
      "Val Loss: 0.04298095032572746\n",
      "Test Loss: 0.04465483874082565\n",
      "Done\n",
      "CPU times: user 11min 30s, sys: 1min 40s, total: 13min 10s\n",
      "Wall time: 5min 42s\n"
     ]
    }
   ],
   "source": [
    "%%time\n",
    "predictor_model = predictor.train()"
   ]
  },
  {
   "cell_type": "markdown",
   "id": "5b4b98e4",
   "metadata": {},
   "source": [
    "Val loss MAE "
   ]
  },
  {
   "cell_type": "code",
   "execution_count": 19,
   "id": "364bfafb",
   "metadata": {},
   "outputs": [],
   "source": [
    "if not os.path.exists('models'):\n",
    "    os.mkdir('models')\n",
    "predictor_model.save_weights(\"models/trained_model_weights_2021_07_31.h5\")"
   ]
  },
  {
   "cell_type": "markdown",
   "id": "05c109a3",
   "metadata": {},
   "source": [
    "## Predicting the August 2021 wave"
   ]
  },
  {
   "cell_type": "markdown",
   "id": "fe160531",
   "metadata": {},
   "source": [
    "### Preparing historical ip"
   ]
  },
  {
   "cell_type": "code",
   "execution_count": 21,
   "id": "fb7deb5d",
   "metadata": {},
   "outputs": [
    {
     "name": "stderr",
     "output_type": "stream",
     "text": [
      "/root/miniconda3/envs/p38/lib/python3.8/site-packages/IPython/core/interactiveshell.py:3169: DtypeWarning: Columns (3) have mixed types.Specify dtype option on import or set low_memory=False.\n",
      "  has_raised = await self.run_ast_nodes(code_ast.body, cell_name,\n"
     ]
    }
   ],
   "source": [
    "DATA_FILE = \"data/OxCGRT_latest.csv\"\n",
    "latest_df = pd.read_csv(DATA_FILE,\n",
    "                       parse_dates=['Date'],\n",
    "                       dtype={\"RegionName\": str},\n",
    "                       encoding=\"ISO-8859-1\")\n",
    "latest_historical_ip_df = latest_df[[\"CountryName\", \"RegionName\",\n",
    "                                    \"Date\",\"C1_School closing\",\n",
    "                                    \"C2_Workplace closing\",\"C3_Cancel public events\",\n",
    "                                    \"C4_Restrictions on gatherings\",\"C5_Close public transport\",\n",
    "                                    \"C6_Stay at home requirements\",\"C7_Restrictions on internal movement\",\n",
    "                                    \"C8_International travel controls\",\"H1_Public information campaigns\",\n",
    "                                    \"H2_Testing policy\",\"H3_Contact tracing\",\"H6_Facial Coverings\"]]"
   ]
  },
  {
   "cell_type": "code",
   "execution_count": 22,
   "id": "918934be",
   "metadata": {},
   "outputs": [
    {
     "name": "stdout",
     "output_type": "stream",
     "text": [
      "Saved dataframe to data/latest_historical_ip.csv\n"
     ]
    }
   ],
   "source": [
    "output_file_path = \"data/latest_historical_ip.csv\";\n",
    "# Create the output path\n",
    "os.makedirs(os.path.dirname(output_file_path), exist_ok=True)\n",
    "# Save to a csv file\n",
    "latest_historical_ip_df.to_csv(output_file_path, index=False)\n",
    "print(f\"Saved dataframe to {output_file_path}\")"
   ]
  },
  {
   "cell_type": "markdown",
   "id": "2fde9438",
   "metadata": {},
   "source": [
    "### Prediction"
   ]
  },
  {
   "cell_type": "code",
   "execution_count": 23,
   "id": "5e15bbe4",
   "metadata": {},
   "outputs": [],
   "source": [
    "NPIS_INPUT_FILE = \"data/latest_historical_ip.csv\"\n",
    "start_date = \"2021-08-01\"\n",
    "end_date = \"2021-08-31\"\n",
    "output_file_path = \"predictions/2021-08-01_2021-08-31_latest_data.csv\""
   ]
  },
  {
   "cell_type": "code",
   "execution_count": 25,
   "id": "4919f289",
   "metadata": {},
   "outputs": [],
   "source": [
    "DATA_FILE = \"data/OxCGRT_2021_07_31.csv\"\n",
    "model_weights_file = \"models/trained_model_weights_2021_07_31.h5\"\n",
    "predictor = XPrizePredictor(model_weights_file, DATA_FILE)"
   ]
  },
  {
   "cell_type": "code",
   "execution_count": 26,
   "id": "bf83535f",
   "metadata": {},
   "outputs": [
    {
     "name": "stdout",
     "output_type": "stream",
     "text": [
      "CPU times: user 3min 20s, sys: 3.43 s, total: 3min 23s\n",
      "Wall time: 3min 3s\n"
     ]
    }
   ],
   "source": [
    "%%time\n",
    "preds_df = predictor.predict(start_date, end_date, NPIS_INPUT_FILE)"
   ]
  },
  {
   "cell_type": "code",
   "execution_count": 27,
   "id": "2fcd9f92",
   "metadata": {},
   "outputs": [
    {
     "name": "stdout",
     "output_type": "stream",
     "text": [
      "Saved predictions to predictions/2021-08-01_2021-08-31_latest_data.csv\n"
     ]
    }
   ],
   "source": [
    "# Create the output path\n",
    "os.makedirs(os.path.dirname(output_file_path), exist_ok=True)\n",
    "# Save to a csv file\n",
    "preds_df.to_csv(output_file_path, index=False)\n",
    "print(f\"Saved predictions to {output_file_path}\")"
   ]
  },
  {
   "cell_type": "code",
   "execution_count": 28,
   "id": "ea7e3b6f",
   "metadata": {},
   "outputs": [
    {
     "data": {
      "text/html": [
       "<div>\n",
       "<style scoped>\n",
       "    .dataframe tbody tr th:only-of-type {\n",
       "        vertical-align: middle;\n",
       "    }\n",
       "\n",
       "    .dataframe tbody tr th {\n",
       "        vertical-align: top;\n",
       "    }\n",
       "\n",
       "    .dataframe thead th {\n",
       "        text-align: right;\n",
       "    }\n",
       "</style>\n",
       "<table border=\"1\" class=\"dataframe\">\n",
       "  <thead>\n",
       "    <tr style=\"text-align: right;\">\n",
       "      <th></th>\n",
       "      <th>CountryName</th>\n",
       "      <th>RegionName</th>\n",
       "      <th>Date</th>\n",
       "      <th>PredictedDailyNewCases</th>\n",
       "    </tr>\n",
       "  </thead>\n",
       "  <tbody>\n",
       "    <tr>\n",
       "      <th>0</th>\n",
       "      <td>Aruba</td>\n",
       "      <td>NaN</td>\n",
       "      <td>2021-08-01</td>\n",
       "      <td>67.578480</td>\n",
       "    </tr>\n",
       "    <tr>\n",
       "      <th>1</th>\n",
       "      <td>Aruba</td>\n",
       "      <td>NaN</td>\n",
       "      <td>2021-08-02</td>\n",
       "      <td>59.285661</td>\n",
       "    </tr>\n",
       "    <tr>\n",
       "      <th>2</th>\n",
       "      <td>Aruba</td>\n",
       "      <td>NaN</td>\n",
       "      <td>2021-08-03</td>\n",
       "      <td>87.248634</td>\n",
       "    </tr>\n",
       "    <tr>\n",
       "      <th>3</th>\n",
       "      <td>Aruba</td>\n",
       "      <td>NaN</td>\n",
       "      <td>2021-08-04</td>\n",
       "      <td>89.011122</td>\n",
       "    </tr>\n",
       "    <tr>\n",
       "      <th>4</th>\n",
       "      <td>Aruba</td>\n",
       "      <td>NaN</td>\n",
       "      <td>2021-08-05</td>\n",
       "      <td>87.798978</td>\n",
       "    </tr>\n",
       "  </tbody>\n",
       "</table>\n",
       "</div>"
      ],
      "text/plain": [
       "  CountryName RegionName       Date  PredictedDailyNewCases\n",
       "0       Aruba        NaN 2021-08-01               67.578480\n",
       "1       Aruba        NaN 2021-08-02               59.285661\n",
       "2       Aruba        NaN 2021-08-03               87.248634\n",
       "3       Aruba        NaN 2021-08-04               89.011122\n",
       "4       Aruba        NaN 2021-08-05               87.798978"
      ]
     },
     "execution_count": 28,
     "metadata": {},
     "output_type": "execute_result"
    }
   ],
   "source": [
    "preds_df.head()"
   ]
  }
 ],
 "metadata": {
  "kernelspec": {
   "display_name": "Python 3 (ipykernel)",
   "language": "python",
   "name": "python3"
  },
  "language_info": {
   "codemirror_mode": {
    "name": "ipython",
    "version": 3
   },
   "file_extension": ".py",
   "mimetype": "text/x-python",
   "name": "python",
   "nbconvert_exporter": "python",
   "pygments_lexer": "ipython3",
   "version": "3.8.10"
  }
 },
 "nbformat": 4,
 "nbformat_minor": 5
}
